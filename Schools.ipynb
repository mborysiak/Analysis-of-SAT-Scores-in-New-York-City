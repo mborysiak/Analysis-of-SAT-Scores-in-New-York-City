{
 "cells": [
  {
   "cell_type": "markdown",
   "metadata": {},
   "source": [
    "# Analysis of SAT Scores in New York City\n",
    "This project began as part of DataQuest's cirriculum. Data from multiple sources were gathered together, cleaned, and combined into a single dataframe. Correlations between SAT scores and various factors such as class size, AP tests, demographics, and other variables were explored. Independently, I created a linear regression model with regularization that shows the most predictive variables for SAT scores in New York City. \n",
    "\n",
    "### Key Questions Explored\n",
    "- What variables affect the SAT scores of students in New York City?\n",
    "\n",
    "### Key Results\n",
    "- The factors that most affect SAT scores seem to revolve around economics, opportunity, and race (though race results are correlated with economics and opportunity). For example schools that have higher percentages of free and reduced lunch students typically perform worse on the SAT's. \n",
    "\n",
    "### Techniques used\n",
    "- pandas for data cleaning and manipulation\n",
    "- Basemap for mapping\n",
    "- matplotlib for data plotting\n",
    "- scikitlearn for linear regression"
   ]
  },
  {
   "cell_type": "markdown",
   "metadata": {},
   "source": [
    "# Reading in the data\n",
    "There are multiple data files that will be compiled together, so each separate one will initially be read into a single dictionary."
   ]
  },
  {
   "cell_type": "code",
   "execution_count": 173,
   "metadata": {
    "collapsed": true
   },
   "outputs": [],
   "source": [
    "import pandas\n",
    "import numpy\n",
    "import re\n",
    "import matplotlib.pyplot as plt\n",
    "%matplotlib inline\n",
    "\n",
    "data_files = [\n",
    "    \"ap_2010.csv\",\n",
    "    \"class_size.csv\",\n",
    "    \"demographics.csv\",\n",
    "    \"graduation.csv\",\n",
    "    \"hs_directory.csv\",\n",
    "    \"sat_results.csv\"\n",
    "]\n",
    "\n",
    "data = {}\n",
    "\n",
    "for f in data_files:\n",
    "    d = pandas.read_csv('{0}'.format(f))\n",
    "    data[f.replace(\".csv\", \"\")] = d"
   ]
  },
  {
   "cell_type": "markdown",
   "metadata": {},
   "source": [
    "# Read in the surveys\n",
    "Additional surveys from students, parents, and teachers will be included as well."
   ]
  },
  {
   "cell_type": "code",
   "execution_count": 174,
   "metadata": {},
   "outputs": [
    {
     "data": {
      "text/html": [
       "<div>\n",
       "<style>\n",
       "    .dataframe thead tr:only-child th {\n",
       "        text-align: right;\n",
       "    }\n",
       "\n",
       "    .dataframe thead th {\n",
       "        text-align: left;\n",
       "    }\n",
       "\n",
       "    .dataframe tbody tr th {\n",
       "        vertical-align: top;\n",
       "    }\n",
       "</style>\n",
       "<table border=\"1\" class=\"dataframe\">\n",
       "  <thead>\n",
       "    <tr style=\"text-align: right;\">\n",
       "      <th></th>\n",
       "      <th>DBN</th>\n",
       "      <th>rr_s</th>\n",
       "      <th>rr_t</th>\n",
       "      <th>rr_p</th>\n",
       "      <th>N_s</th>\n",
       "      <th>N_t</th>\n",
       "      <th>N_p</th>\n",
       "      <th>saf_p_11</th>\n",
       "      <th>com_p_11</th>\n",
       "      <th>eng_p_11</th>\n",
       "      <th>...</th>\n",
       "      <th>eng_t_10</th>\n",
       "      <th>aca_t_11</th>\n",
       "      <th>saf_s_11</th>\n",
       "      <th>com_s_11</th>\n",
       "      <th>eng_s_11</th>\n",
       "      <th>aca_s_11</th>\n",
       "      <th>saf_tot_11</th>\n",
       "      <th>com_tot_11</th>\n",
       "      <th>eng_tot_11</th>\n",
       "      <th>aca_tot_11</th>\n",
       "    </tr>\n",
       "  </thead>\n",
       "  <tbody>\n",
       "    <tr>\n",
       "      <th>0</th>\n",
       "      <td>01M015</td>\n",
       "      <td>NaN</td>\n",
       "      <td>88</td>\n",
       "      <td>60</td>\n",
       "      <td>NaN</td>\n",
       "      <td>22.0</td>\n",
       "      <td>90.0</td>\n",
       "      <td>8.5</td>\n",
       "      <td>7.6</td>\n",
       "      <td>7.5</td>\n",
       "      <td>...</td>\n",
       "      <td>NaN</td>\n",
       "      <td>7.9</td>\n",
       "      <td>NaN</td>\n",
       "      <td>NaN</td>\n",
       "      <td>NaN</td>\n",
       "      <td>NaN</td>\n",
       "      <td>8.0</td>\n",
       "      <td>7.7</td>\n",
       "      <td>7.5</td>\n",
       "      <td>7.9</td>\n",
       "    </tr>\n",
       "    <tr>\n",
       "      <th>1</th>\n",
       "      <td>01M019</td>\n",
       "      <td>NaN</td>\n",
       "      <td>100</td>\n",
       "      <td>60</td>\n",
       "      <td>NaN</td>\n",
       "      <td>34.0</td>\n",
       "      <td>161.0</td>\n",
       "      <td>8.4</td>\n",
       "      <td>7.6</td>\n",
       "      <td>7.6</td>\n",
       "      <td>...</td>\n",
       "      <td>NaN</td>\n",
       "      <td>9.1</td>\n",
       "      <td>NaN</td>\n",
       "      <td>NaN</td>\n",
       "      <td>NaN</td>\n",
       "      <td>NaN</td>\n",
       "      <td>8.5</td>\n",
       "      <td>8.1</td>\n",
       "      <td>8.2</td>\n",
       "      <td>8.4</td>\n",
       "    </tr>\n",
       "    <tr>\n",
       "      <th>2</th>\n",
       "      <td>01M020</td>\n",
       "      <td>NaN</td>\n",
       "      <td>88</td>\n",
       "      <td>73</td>\n",
       "      <td>NaN</td>\n",
       "      <td>42.0</td>\n",
       "      <td>367.0</td>\n",
       "      <td>8.9</td>\n",
       "      <td>8.3</td>\n",
       "      <td>8.3</td>\n",
       "      <td>...</td>\n",
       "      <td>NaN</td>\n",
       "      <td>7.5</td>\n",
       "      <td>NaN</td>\n",
       "      <td>NaN</td>\n",
       "      <td>NaN</td>\n",
       "      <td>NaN</td>\n",
       "      <td>8.2</td>\n",
       "      <td>7.3</td>\n",
       "      <td>7.5</td>\n",
       "      <td>8.0</td>\n",
       "    </tr>\n",
       "    <tr>\n",
       "      <th>3</th>\n",
       "      <td>01M034</td>\n",
       "      <td>89.0</td>\n",
       "      <td>73</td>\n",
       "      <td>50</td>\n",
       "      <td>145.0</td>\n",
       "      <td>29.0</td>\n",
       "      <td>151.0</td>\n",
       "      <td>8.8</td>\n",
       "      <td>8.2</td>\n",
       "      <td>8.0</td>\n",
       "      <td>...</td>\n",
       "      <td>NaN</td>\n",
       "      <td>7.8</td>\n",
       "      <td>6.2</td>\n",
       "      <td>5.9</td>\n",
       "      <td>6.5</td>\n",
       "      <td>7.4</td>\n",
       "      <td>7.3</td>\n",
       "      <td>6.7</td>\n",
       "      <td>7.1</td>\n",
       "      <td>7.9</td>\n",
       "    </tr>\n",
       "    <tr>\n",
       "      <th>4</th>\n",
       "      <td>01M063</td>\n",
       "      <td>NaN</td>\n",
       "      <td>100</td>\n",
       "      <td>60</td>\n",
       "      <td>NaN</td>\n",
       "      <td>23.0</td>\n",
       "      <td>90.0</td>\n",
       "      <td>8.7</td>\n",
       "      <td>7.9</td>\n",
       "      <td>8.1</td>\n",
       "      <td>...</td>\n",
       "      <td>NaN</td>\n",
       "      <td>8.1</td>\n",
       "      <td>NaN</td>\n",
       "      <td>NaN</td>\n",
       "      <td>NaN</td>\n",
       "      <td>NaN</td>\n",
       "      <td>8.5</td>\n",
       "      <td>7.6</td>\n",
       "      <td>7.9</td>\n",
       "      <td>8.0</td>\n",
       "    </tr>\n",
       "  </tbody>\n",
       "</table>\n",
       "<p>5 rows × 23 columns</p>\n",
       "</div>"
      ],
      "text/plain": [
       "      DBN  rr_s  rr_t  rr_p    N_s   N_t    N_p  saf_p_11  com_p_11  eng_p_11  \\\n",
       "0  01M015   NaN    88    60    NaN  22.0   90.0       8.5       7.6       7.5   \n",
       "1  01M019   NaN   100    60    NaN  34.0  161.0       8.4       7.6       7.6   \n",
       "2  01M020   NaN    88    73    NaN  42.0  367.0       8.9       8.3       8.3   \n",
       "3  01M034  89.0    73    50  145.0  29.0  151.0       8.8       8.2       8.0   \n",
       "4  01M063   NaN   100    60    NaN  23.0   90.0       8.7       7.9       8.1   \n",
       "\n",
       "      ...      eng_t_10  aca_t_11  saf_s_11  com_s_11  eng_s_11  aca_s_11  \\\n",
       "0     ...           NaN       7.9       NaN       NaN       NaN       NaN   \n",
       "1     ...           NaN       9.1       NaN       NaN       NaN       NaN   \n",
       "2     ...           NaN       7.5       NaN       NaN       NaN       NaN   \n",
       "3     ...           NaN       7.8       6.2       5.9       6.5       7.4   \n",
       "4     ...           NaN       8.1       NaN       NaN       NaN       NaN   \n",
       "\n",
       "   saf_tot_11  com_tot_11  eng_tot_11  aca_tot_11  \n",
       "0         8.0         7.7         7.5         7.9  \n",
       "1         8.5         8.1         8.2         8.4  \n",
       "2         8.2         7.3         7.5         8.0  \n",
       "3         7.3         6.7         7.1         7.9  \n",
       "4         8.5         7.6         7.9         8.0  \n",
       "\n",
       "[5 rows x 23 columns]"
      ]
     },
     "execution_count": 174,
     "metadata": {},
     "output_type": "execute_result"
    }
   ],
   "source": [
    "all_survey = pandas.read_csv(\"survey_all.txt\", delimiter=\"\\t\", encoding='windows-1252')\n",
    "d75_survey = pandas.read_csv(\"survey_d75.txt\", delimiter=\"\\t\", encoding='windows-1252')\n",
    "survey = pandas.concat([all_survey, d75_survey], axis=0)\n",
    "\n",
    "survey[\"DBN\"] = survey[\"dbn\"]\n",
    "\n",
    "survey_fields = [\n",
    "    \"DBN\", \n",
    "    \"rr_s\", \n",
    "    \"rr_t\", \n",
    "    \"rr_p\", \n",
    "    \"N_s\", \n",
    "    \"N_t\", \n",
    "    \"N_p\", \n",
    "    \"saf_p_11\", \n",
    "    \"com_p_11\", \n",
    "    \"eng_p_11\", \n",
    "    \"aca_p_11\", \n",
    "    \"saf_t_11\", \n",
    "    \"com_t_11\", \n",
    "    \"eng_t_10\", \n",
    "    \"aca_t_11\", \n",
    "    \"saf_s_11\", \n",
    "    \"com_s_11\", \n",
    "    \"eng_s_11\", \n",
    "    \"aca_s_11\", \n",
    "    \"saf_tot_11\", \n",
    "    \"com_tot_11\", \n",
    "    \"eng_tot_11\", \n",
    "    \"aca_tot_11\",\n",
    "]\n",
    "survey = survey.loc[:,survey_fields]\n",
    "data[\"survey\"] = survey\n",
    "data['survey'].head()"
   ]
  },
  {
   "cell_type": "markdown",
   "metadata": {},
   "source": [
    "# Add DBN columns\n",
    "The common denominator between each dataset is the DBN, which is an identifying code for each school. In order to combine the datasets on a common variable, DBN will be formatted to be identical between datsets."
   ]
  },
  {
   "cell_type": "code",
   "execution_count": 175,
   "metadata": {
    "collapsed": true
   },
   "outputs": [],
   "source": [
    "data[\"hs_directory\"][\"DBN\"] = data[\"hs_directory\"][\"dbn\"]\n",
    "\n",
    "def pad_csd(num):\n",
    "    string_representation = str(num)\n",
    "    if len(string_representation) > 1:\n",
    "        return string_representation\n",
    "    else:\n",
    "        return \"0\" + string_representation\n",
    "    \n",
    "data[\"class_size\"][\"padded_csd\"] = data[\"class_size\"][\"CSD\"].apply(pad_csd)\n",
    "data[\"class_size\"][\"DBN\"] = data[\"class_size\"][\"padded_csd\"] + data[\"class_size\"][\"SCHOOL CODE\"]"
   ]
  },
  {
   "cell_type": "markdown",
   "metadata": {},
   "source": [
    "# Convert columns to numeric\n",
    "In the SAT results dataset, the scores will be converted into numeric and combined into a single SAT score. Further, latitude and longitude strings that locate each school will be converted to numeric for later mapping."
   ]
  },
  {
   "cell_type": "code",
   "execution_count": 176,
   "metadata": {
    "collapsed": true
   },
   "outputs": [],
   "source": [
    "cols = ['SAT Math Avg. Score', 'SAT Critical Reading Avg. Score', 'SAT Writing Avg. Score']\n",
    "for c in cols:\n",
    "    data[\"sat_results\"][c] = pandas.to_numeric(data[\"sat_results\"][c], errors=\"coerce\")\n",
    "\n",
    "data['sat_results']['sat_score'] = data['sat_results'][cols[0]] + data['sat_results'][cols[1]] + data['sat_results'][cols[2]]\n",
    "\n",
    "def find_lat(loc):\n",
    "    coords = re.findall(\"\\(.+, .+\\)\", loc)\n",
    "    lat = coords[0].split(\",\")[0].replace(\"(\", \"\")\n",
    "    return lat\n",
    "\n",
    "def find_lon(loc):\n",
    "    coords = re.findall(\"\\(.+, .+\\)\", loc)\n",
    "    lon = coords[0].split(\",\")[1].replace(\")\", \"\").strip()\n",
    "    return lon\n",
    "\n",
    "data[\"hs_directory\"][\"lat\"] = data[\"hs_directory\"][\"Location 1\"].apply(find_lat)\n",
    "data[\"hs_directory\"][\"lon\"] = data[\"hs_directory\"][\"Location 1\"].apply(find_lon)\n",
    "\n",
    "data[\"hs_directory\"][\"lat\"] = pandas.to_numeric(data[\"hs_directory\"][\"lat\"], errors=\"coerce\")\n",
    "data[\"hs_directory\"][\"lon\"] = pandas.to_numeric(data[\"hs_directory\"][\"lon\"], errors=\"coerce\")"
   ]
  },
  {
   "cell_type": "markdown",
   "metadata": {},
   "source": [
    "# Condense datasets\n",
    "Some of the datasets have multiple rows for each school or DBN number, which would lead to multiple entries when combining the datasets. Thus, these datasets will be combined by selecting a single grade, single program type, and averaging the class sizes so that each school represents a single row."
   ]
  },
  {
   "cell_type": "code",
   "execution_count": 177,
   "metadata": {
    "collapsed": true
   },
   "outputs": [],
   "source": [
    "class_size = data[\"class_size\"]\n",
    "class_size = class_size[class_size[\"GRADE \"] == \"09-12\"]\n",
    "class_size = class_size[class_size[\"PROGRAM TYPE\"] == \"GEN ED\"]\n",
    "\n",
    "class_size = class_size.groupby(\"DBN\").agg(numpy.mean)\n",
    "class_size.reset_index(inplace=True)\n",
    "data[\"class_size\"] = class_size\n",
    "\n",
    "data[\"demographics\"] = data[\"demographics\"][data[\"demographics\"][\"schoolyear\"] == 20112012]\n",
    "\n",
    "data[\"graduation\"] = data[\"graduation\"][data[\"graduation\"][\"Cohort\"] == \"2006\"]\n",
    "data[\"graduation\"] = data[\"graduation\"][data[\"graduation\"][\"Demographic\"] == \"Total Cohort\"]"
   ]
  },
  {
   "cell_type": "markdown",
   "metadata": {},
   "source": [
    "# Convert AP scores to numeric"
   ]
  },
  {
   "cell_type": "code",
   "execution_count": 178,
   "metadata": {
    "collapsed": true
   },
   "outputs": [],
   "source": [
    "cols = ['AP Test Takers ', 'Total Exams Taken', 'Number of Exams with scores 3 4 or 5']\n",
    "\n",
    "for col in cols:\n",
    "    data[\"ap_2010\"][col] = pandas.to_numeric(data[\"ap_2010\"][col], errors=\"coerce\")"
   ]
  },
  {
   "cell_type": "markdown",
   "metadata": {},
   "source": [
    "# Combine the datasets\n",
    "All of the separate datasets will be combined into a single dataset using the DBN values discussed earlier. The merging strategy will be dependent on how critical it is to retain information versus the number of null values the merge will create."
   ]
  },
  {
   "cell_type": "code",
   "execution_count": 179,
   "metadata": {
    "collapsed": true
   },
   "outputs": [],
   "source": [
    "combined = data[\"sat_results\"]\n",
    "\n",
    "combined = combined.merge(data[\"ap_2010\"], on=\"DBN\", how=\"left\")\n",
    "combined = combined.merge(data[\"graduation\"], on=\"DBN\", how=\"left\")\n",
    "\n",
    "to_merge = [\"class_size\", \"demographics\", \"survey\", \"hs_directory\"]\n",
    "\n",
    "for m in to_merge:\n",
    "    combined = combined.merge(data[m], on=\"DBN\", how=\"inner\")\n",
    "\n",
    "combined = combined.fillna(combined.mean())\n",
    "combined = combined.fillna(0)"
   ]
  },
  {
   "cell_type": "markdown",
   "metadata": {},
   "source": [
    "# Add a school district column for mapping\n",
    "Later, a map visualization will be created that requires a school district column."
   ]
  },
  {
   "cell_type": "code",
   "execution_count": 180,
   "metadata": {
    "collapsed": true
   },
   "outputs": [],
   "source": [
    "def get_first_two_chars(dbn):\n",
    "    return dbn[0:2]\n",
    "\n",
    "combined[\"school_dist\"] = combined[\"DBN\"].apply(get_first_two_chars)"
   ]
  },
  {
   "cell_type": "markdown",
   "metadata": {},
   "source": [
    "# Find correlations\n",
    "The first exploratory analysis of the data will look at the correlation between all the factors in the dataset and SAT scores. Only significant correlations (>0.25 or <-0.25 will be shown)"
   ]
  },
  {
   "cell_type": "code",
   "execution_count": 181,
   "metadata": {},
   "outputs": [
    {
     "name": "stdout",
     "output_type": "stream",
     "text": [
      "SAT Critical Reading Avg. Score         0.986820\n",
      "SAT Math Avg. Score                     0.972643\n",
      "SAT Writing Avg. Score                  0.987771\n",
      "sat_score                               1.000000\n",
      "AP Test Takers                          0.523140\n",
      "Total Exams Taken                       0.514333\n",
      "Number of Exams with scores 3 4 or 5    0.463245\n",
      "Total Cohort                            0.325144\n",
      "CSD                                     0.042948\n",
      "NUMBER OF STUDENTS / SEATS FILLED       0.394626\n",
      "NUMBER OF SECTIONS                      0.362673\n",
      "AVERAGE CLASS SIZE                      0.381014\n",
      "SIZE OF SMALLEST CLASS                  0.249949\n",
      "SIZE OF LARGEST CLASS                   0.314434\n",
      "SCHOOLWIDE PUPIL-TEACHER RATIO               NaN\n",
      "schoolyear                                   NaN\n",
      "fl_percent                                   NaN\n",
      "frl_percent                            -0.722225\n",
      "total_enrollment                        0.367857\n",
      "ell_num                                -0.153778\n",
      "ell_percent                            -0.398750\n",
      "sped_num                                0.034933\n",
      "sped_percent                           -0.448170\n",
      "asian_num                               0.475445\n",
      "asian_per                               0.570730\n",
      "black_num                               0.027979\n",
      "black_per                              -0.284139\n",
      "hispanic_num                            0.025744\n",
      "hispanic_per                           -0.396985\n",
      "white_num                               0.449559\n",
      "                                          ...   \n",
      "rr_p                                    0.047925\n",
      "N_s                                     0.423463\n",
      "N_t                                     0.291463\n",
      "N_p                                     0.421530\n",
      "saf_p_11                                0.122913\n",
      "com_p_11                               -0.115073\n",
      "eng_p_11                                0.020254\n",
      "aca_p_11                                0.035155\n",
      "saf_t_11                                0.313810\n",
      "com_t_11                                0.082419\n",
      "eng_t_10                                     NaN\n",
      "aca_t_11                                0.132348\n",
      "saf_s_11                                0.337639\n",
      "com_s_11                                0.187370\n",
      "eng_s_11                                0.213822\n",
      "aca_s_11                                0.339435\n",
      "saf_tot_11                              0.318753\n",
      "com_tot_11                              0.077310\n",
      "eng_tot_11                              0.100102\n",
      "aca_tot_11                              0.190966\n",
      "grade_span_max                               NaN\n",
      "expgrade_span_max                            NaN\n",
      "zip                                    -0.063977\n",
      "total_students                          0.407827\n",
      "number_programs                         0.117012\n",
      "priority08                                   NaN\n",
      "priority09                                   NaN\n",
      "priority10                                   NaN\n",
      "lat                                    -0.121029\n",
      "lon                                    -0.132222\n",
      "Name: sat_score, Length: 67, dtype: float64\n"
     ]
    }
   ],
   "source": [
    "correlations = combined.corr()\n",
    "correlations_sat = correlations[\"sat_score\"]\n",
    "print(correlations_sat)\n",
    "correlations_sat_sign_high = correlations_sat[(correlations_sat > 0.25)]\n",
    "correlations_sat_sign_low = correlations_sat[correlations_sat < -0.25]\n",
    "correlations_sat_sign = pandas.concat([correlations_sat_sign_high, correlations_sat_sign_low])"
   ]
  },
  {
   "cell_type": "code",
   "execution_count": 182,
   "metadata": {},
   "outputs": [
    {
     "data": {
      "image/png": "[encoded data removed]",
      "text/plain": [
       "<matplotlib.figure.Figure at 0x11a18b3c8>"
      ]
     },
     "metadata": {},
     "output_type": "display_data"
    }
   ],
   "source": [
    "fig = plt.figure(figsize=(18,6))\n",
    "ax = fig.add_subplot(1,1,1)\n",
    "\n",
    "to_plot = correlations_sat_sign\n",
    "\n",
    "ax.bar(range(len(to_plot)), to_plot, 0.5,  color='blue',)\n",
    "\n",
    "ax.set_xticks(range(len(to_plot)))\n",
    "ax.set_xticklabels(correlations_sat_sign.index, rotation=90, fontsize=14)\n",
    "\n",
    "plt.ylabel('Correlations Between SAT score and various factors')\n",
    "\n",
    "ax.spines['top'].set_visible(False)\n",
    "ax.spines['right'].set_visible(False)\n",
    "\n",
    "plt.show()"
   ]
  },
  {
   "cell_type": "markdown",
   "metadata": {},
   "source": [
    "# Summary of initial correlations\n",
    "A number of strong correlations appear. Obviously the individual test scores (math, writing, and reading) show very strong correlation. Other exams taken such as AP tests show strong positive correlation. Surprisingly, class size, number of sections, and largest class size correlate positively with SAT scores. A number of race factors have strong correlations and will be explored further later on. Finally, significant survey results will be explored next."
   ]
  },
  {
   "cell_type": "code",
   "execution_count": 183,
   "metadata": {},
   "outputs": [
    {
     "data": {
      "text/plain": [
       "<matplotlib.axes._subplots.AxesSubplot at 0x11a18edd8>"
      ]
     },
     "execution_count": 183,
     "metadata": {},
     "output_type": "execute_result"
    },
    {
     "data": {
      "image/png": "[encoded data removed]",
      "text/plain": [
       "<matplotlib.figure.Figure at 0x11a19e4a8>"
      ]
     },
     "metadata": {},
     "output_type": "display_data"
    }
   ],
   "source": [
    "correlations_sat[survey_fields][correlations_sat[survey_fields] > 0.25].plot.bar()"
   ]
  },
  {
   "cell_type": "markdown",
   "metadata": {},
   "source": [
    "## Correlation findings with teacher/parent/student surveys\n",
    "The number of students, teachers, and parents (N_s, N_t, and N_p) who answers the survey positively correlated with SAT scores. This may be indicative of enthusiasm and or levels of involvement. The other main positive correlation in the survey was the \"safety and respect\" score for students and teachers (saf_t_11, saf_s_11, saf_tot_11). These results indicate that students who feel safe in their environment perform better on the SATs."
   ]
  },
  {
   "cell_type": "markdown",
   "metadata": {},
   "source": [
    "# Plotting the safety score of students with SAT scores"
   ]
  },
  {
   "cell_type": "code",
   "execution_count": 184,
   "metadata": {},
   "outputs": [
    {
     "data": {
      "text/plain": [
       "<matplotlib.collections.PathCollection at 0x121d5ea58>"
      ]
     },
     "execution_count": 184,
     "metadata": {},
     "output_type": "execute_result"
    },
    {
     "data": {
      "image/png": "[encoded data removed]",
      "text/plain": [
       "<matplotlib.figure.Figure at 0x11bcbb630>"
      ]
     },
     "metadata": {},
     "output_type": "display_data"
    }
   ],
   "source": [
    "safety_students = combined['saf_s_11']\n",
    "sat_score = combined['sat_score']\n",
    "\n",
    "plt.scatter(safety_students, sat_score)"
   ]
  },
  {
   "cell_type": "markdown",
   "metadata": {},
   "source": [
    "# Creating a map of school districts based on the average safety score\n",
    "The map below will show which school districts students feel most safe in based on survey scores."
   ]
  },
  {
   "cell_type": "code",
   "execution_count": 185,
   "metadata": {},
   "outputs": [
    {
     "name": "stderr",
     "output_type": "stream",
     "text": [
      "/Users/Mark/anaconda/lib/python3.6/site-packages/mpl_toolkits/basemap/__init__.py:1767: MatplotlibDeprecationWarning: The get_axis_bgcolor function was deprecated in version 2.0. Use get_facecolor instead.\n",
      "  axisbgc = ax.get_axis_bgcolor()\n",
      "/Users/Mark/anaconda/lib/python3.6/site-packages/mpl_toolkits/basemap/__init__.py:3222: MatplotlibDeprecationWarning: The ishold function was deprecated in version 2.0.\n",
      "  b = ax.ishold()\n",
      "/Users/Mark/anaconda/lib/python3.6/site-packages/mpl_toolkits/basemap/__init__.py:3231: MatplotlibDeprecationWarning: axes.hold is deprecated.\n",
      "    See the API Changes document (http://matplotlib.org/api/api_changes.html)\n",
      "    for more details.\n",
      "  ax.hold(b)\n"
     ]
    },
    {
     "data": {
      "image/png": "[encoded data removed]",
      "text/plain": [
       "<matplotlib.figure.Figure at 0x121c91b38>"
      ]
     },
     "metadata": {},
     "output_type": "display_data"
    }
   ],
   "source": [
    "from mpl_toolkits.basemap import Basemap\n",
    "\n",
    "district_mean = combined.groupby('school_dist').agg(numpy.mean)\n",
    "safety_avg = district_mean['saf_s_11']\n",
    "sat_dist_avg = district_mean['sat_score']\n",
    "m = Basemap(\n",
    "    projection='merc',\n",
    "    llcrnrlat=40.496044,\n",
    "    urcrnrlat=40.915256,\n",
    "    llcrnrlon=-74.255735,\n",
    "    urcrnrlon=-73.700272,\n",
    "    resolution='i'\n",
    ")\n",
    "\n",
    "m.drawmapboundary(fill_color='#85A6D9')\n",
    "m.drawcoastlines(color='#6D5F47', linewidth=.4)\n",
    "m.drawrivers(color='#6D5F47', linewidth=.4)\n",
    "m.fillcontinents(color='white',lake_color='#85A6D9')\n",
    "\n",
    "lats = district_mean['lat'].tolist()\n",
    "lons = district_mean['lon'].tolist()\n",
    "\n",
    "m.scatter(lons, lats, s=50, zorder=2, latlon=True, c=safety_avg, cmap='summer')\n",
    "plt.show()"
   ]
  },
  {
   "cell_type": "markdown",
   "metadata": {},
   "source": [
    "## Notes about safety location\n",
    "It appears that Upper Manhattan, Queens, and the Bronx tend to have lower safety scores (lighter colors), while Brooklyn has high safety scores (darker greens)."
   ]
  },
  {
   "cell_type": "markdown",
   "metadata": {},
   "source": [
    "# Exploring the correlations between race and SAT score"
   ]
  },
  {
   "cell_type": "code",
   "execution_count": 186,
   "metadata": {},
   "outputs": [
    {
     "data": {
      "text/plain": [
       "<matplotlib.axes._subplots.AxesSubplot at 0x11bcbb4a8>"
      ]
     },
     "execution_count": 186,
     "metadata": {},
     "output_type": "execute_result"
    },
    {
     "data": {
      "image/png": "[encoded data removed]",
      "text/plain": [
       "<matplotlib.figure.Figure at 0x11b05e8d0>"
      ]
     },
     "metadata": {},
     "output_type": "display_data"
    }
   ],
   "source": [
    "race = ['white_per', 'asian_per', 'black_per', 'hispanic_per']\n",
    "correlations_sat[race].plot.bar()"
   ]
  },
  {
   "cell_type": "markdown",
   "metadata": {},
   "source": [
    "## Notes about race and SAT score\n",
    "The SAT score correlates positively with the percentage of white and asian students, while it correlates negatively with the percentage of black and hispanic students. However, we will dig into the details further below."
   ]
  },
  {
   "cell_type": "code",
   "execution_count": 187,
   "metadata": {},
   "outputs": [
    {
     "data": {
      "image/png": "[encoded data removed]",
      "text/plain": [
       "<matplotlib.figure.Figure at 0x119127eb8>"
      ]
     },
     "metadata": {},
     "output_type": "display_data"
    }
   ],
   "source": [
    "y=combined['sat_score']\n",
    "x=combined['hispanic_per']\n",
    "plt.scatter(x,y)\n",
    "plt.show()"
   ]
  },
  {
   "cell_type": "markdown",
   "metadata": {},
   "source": [
    "## Note about hispanic percentage and SAT score\n",
    "Overall, there does not appear to be a strong correlation between SAT scores and hispanic student percentage. There are a few schools with low hispanic percents that score well and a few schools with very high hispanic percentage that score poorly, but otherwise no trend exists. I will look further into the very low and very high outliers in the following cells."
   ]
  },
  {
   "cell_type": "markdown",
   "metadata": {},
   "source": [
    "## Schools with high hispanic percentages"
   ]
  },
  {
   "cell_type": "code",
   "execution_count": 188,
   "metadata": {},
   "outputs": [
    {
     "data": {
      "text/html": [
       "<div>\n",
       "<style>\n",
       "    .dataframe thead tr:only-child th {\n",
       "        text-align: right;\n",
       "    }\n",
       "\n",
       "    .dataframe thead th {\n",
       "        text-align: left;\n",
       "    }\n",
       "\n",
       "    .dataframe tbody tr th {\n",
       "        vertical-align: top;\n",
       "    }\n",
       "</style>\n",
       "<table border=\"1\" class=\"dataframe\">\n",
       "  <thead>\n",
       "    <tr style=\"text-align: right;\">\n",
       "      <th></th>\n",
       "      <th>SCHOOL NAME</th>\n",
       "      <th>hispanic_per</th>\n",
       "    </tr>\n",
       "  </thead>\n",
       "  <tbody>\n",
       "    <tr>\n",
       "      <th>44</th>\n",
       "      <td>MANHATTAN BRIDGES HIGH SCHOOL</td>\n",
       "      <td>99.8</td>\n",
       "    </tr>\n",
       "    <tr>\n",
       "      <th>82</th>\n",
       "      <td>WASHINGTON HEIGHTS EXPEDITIONARY LEARNING SCHOOL</td>\n",
       "      <td>96.7</td>\n",
       "    </tr>\n",
       "    <tr>\n",
       "      <th>89</th>\n",
       "      <td>GREGORIO LUPERON HIGH SCHOOL FOR SCIENCE AND M...</td>\n",
       "      <td>99.8</td>\n",
       "    </tr>\n",
       "    <tr>\n",
       "      <th>125</th>\n",
       "      <td>ACADEMY FOR LANGUAGE AND TECHNOLOGY</td>\n",
       "      <td>99.4</td>\n",
       "    </tr>\n",
       "    <tr>\n",
       "      <th>141</th>\n",
       "      <td>INTERNATIONAL SCHOOL FOR LIBERAL ARTS</td>\n",
       "      <td>99.8</td>\n",
       "    </tr>\n",
       "    <tr>\n",
       "      <th>176</th>\n",
       "      <td>PAN AMERICAN INTERNATIONAL HIGH SCHOOL AT MONROE</td>\n",
       "      <td>99.8</td>\n",
       "    </tr>\n",
       "    <tr>\n",
       "      <th>253</th>\n",
       "      <td>MULTICULTURAL HIGH SCHOOL</td>\n",
       "      <td>99.8</td>\n",
       "    </tr>\n",
       "    <tr>\n",
       "      <th>286</th>\n",
       "      <td>PAN AMERICAN INTERNATIONAL HIGH SCHOOL</td>\n",
       "      <td>100.0</td>\n",
       "    </tr>\n",
       "  </tbody>\n",
       "</table>\n",
       "</div>"
      ],
      "text/plain": [
       "                                           SCHOOL NAME  hispanic_per\n",
       "44                       MANHATTAN BRIDGES HIGH SCHOOL          99.8\n",
       "82    WASHINGTON HEIGHTS EXPEDITIONARY LEARNING SCHOOL          96.7\n",
       "89   GREGORIO LUPERON HIGH SCHOOL FOR SCIENCE AND M...          99.8\n",
       "125                ACADEMY FOR LANGUAGE AND TECHNOLOGY          99.4\n",
       "141              INTERNATIONAL SCHOOL FOR LIBERAL ARTS          99.8\n",
       "176   PAN AMERICAN INTERNATIONAL HIGH SCHOOL AT MONROE          99.8\n",
       "253                          MULTICULTURAL HIGH SCHOOL          99.8\n",
       "286             PAN AMERICAN INTERNATIONAL HIGH SCHOOL         100.0"
      ]
     },
     "execution_count": 188,
     "metadata": {},
     "output_type": "execute_result"
    }
   ],
   "source": [
    "high_hispanic = combined[combined['hispanic_per'] > 95]\n",
    "high_hispanic.loc[:,['SCHOOL NAME','hispanic_per']]"
   ]
  },
  {
   "cell_type": "markdown",
   "metadata": {},
   "source": [
    "After researching schools with high hispanic percents further, they are mostly schools for recent immigrants that are working to learn the English language. Their lack of experience with English would help explain some difficulties on the SAT scores."
   ]
  },
  {
   "cell_type": "markdown",
   "metadata": {},
   "source": [
    "## Schools with very low hispanic populations"
   ]
  },
  {
   "cell_type": "code",
   "execution_count": 189,
   "metadata": {},
   "outputs": [
    {
     "data": {
      "text/html": [
       "<div>\n",
       "<style>\n",
       "    .dataframe thead tr:only-child th {\n",
       "        text-align: right;\n",
       "    }\n",
       "\n",
       "    .dataframe thead th {\n",
       "        text-align: left;\n",
       "    }\n",
       "\n",
       "    .dataframe tbody tr th {\n",
       "        vertical-align: top;\n",
       "    }\n",
       "</style>\n",
       "<table border=\"1\" class=\"dataframe\">\n",
       "  <thead>\n",
       "    <tr style=\"text-align: right;\">\n",
       "      <th></th>\n",
       "      <th>SCHOOL NAME</th>\n",
       "      <th>hispanic_per</th>\n",
       "    </tr>\n",
       "  </thead>\n",
       "  <tbody>\n",
       "    <tr>\n",
       "      <th>37</th>\n",
       "      <td>STUYVESANT HIGH SCHOOL</td>\n",
       "      <td>2.4</td>\n",
       "    </tr>\n",
       "    <tr>\n",
       "      <th>151</th>\n",
       "      <td>BRONX HIGH SCHOOL OF SCIENCE</td>\n",
       "      <td>7.2</td>\n",
       "    </tr>\n",
       "    <tr>\n",
       "      <th>187</th>\n",
       "      <td>BROOKLYN TECHNICAL HIGH SCHOOL</td>\n",
       "      <td>7.9</td>\n",
       "    </tr>\n",
       "    <tr>\n",
       "      <th>327</th>\n",
       "      <td>QUEENS HIGH SCHOOL FOR THE SCIENCES AT YORK CO...</td>\n",
       "      <td>7.9</td>\n",
       "    </tr>\n",
       "    <tr>\n",
       "      <th>356</th>\n",
       "      <td>STATEN ISLAND TECHNICAL HIGH SCHOOL</td>\n",
       "      <td>5.3</td>\n",
       "    </tr>\n",
       "  </tbody>\n",
       "</table>\n",
       "</div>"
      ],
      "text/plain": [
       "                                           SCHOOL NAME  hispanic_per\n",
       "37                              STUYVESANT HIGH SCHOOL           2.4\n",
       "151                       BRONX HIGH SCHOOL OF SCIENCE           7.2\n",
       "187                     BROOKLYN TECHNICAL HIGH SCHOOL           7.9\n",
       "327  QUEENS HIGH SCHOOL FOR THE SCIENCES AT YORK CO...           7.9\n",
       "356                STATEN ISLAND TECHNICAL HIGH SCHOOL           5.3"
      ]
     },
     "execution_count": 189,
     "metadata": {},
     "output_type": "execute_result"
    }
   ],
   "source": [
    "low_hispanic = combined[(combined['hispanic_per'] < 10) & (combined['sat_score'] > 1800)]\n",
    "low_hispanic.loc[:,['SCHOOL NAME','hispanic_per']]"
   ]
  },
  {
   "cell_type": "markdown",
   "metadata": {},
   "source": [
    "These schools largely consist of specialized science and technology schools that admit students based on an entrance exam. This doesn't explain the low hispanic percentage, but it does help explain why their students perform better on the SAT."
   ]
  },
  {
   "cell_type": "markdown",
   "metadata": {},
   "source": [
    "# Correlations between gender and SAT scores"
   ]
  },
  {
   "cell_type": "code",
   "execution_count": 190,
   "metadata": {},
   "outputs": [
    {
     "data": {
      "text/plain": [
       "<matplotlib.axes._subplots.AxesSubplot at 0x11799bfd0>"
      ]
     },
     "execution_count": 190,
     "metadata": {},
     "output_type": "execute_result"
    },
    {
     "data": {
      "image/png": "[encoded data removed]",
      "text/plain": [
       "<matplotlib.figure.Figure at 0x118ee6780>"
      ]
     },
     "metadata": {},
     "output_type": "display_data"
    }
   ],
   "source": [
    "gender_fields = [\"male_per\", \"female_per\"]\n",
    "combined.corr()[\"sat_score\"][gender_fields].plot.bar()"
   ]
  },
  {
   "cell_type": "code",
   "execution_count": 191,
   "metadata": {},
   "outputs": [
    {
     "data": {
      "text/plain": [
       "<matplotlib.axes._subplots.AxesSubplot at 0x121e1f978>"
      ]
     },
     "execution_count": 191,
     "metadata": {},
     "output_type": "execute_result"
    },
    {
     "data": {
      "image/png": "[encoded data removed]",
      "text/plain": [
       "<matplotlib.figure.Figure at 0x119743dd8>"
      ]
     },
     "metadata": {},
     "output_type": "display_data"
    }
   ],
   "source": [
    "combined.plot.scatter(\"female_per\", \"sat_score\")"
   ]
  },
  {
   "cell_type": "markdown",
   "metadata": {},
   "source": [
    "Based on the scatterplot, there doesn't seem to be any real correlation between sat_score and female_per. However, there is a cluster of schools with a high percentage of females (60 to 80), and high SAT scores.\n"
   ]
  },
  {
   "cell_type": "code",
   "execution_count": 192,
   "metadata": {},
   "outputs": [
    {
     "name": "stdout",
     "output_type": "stream",
     "text": [
      "5                         BARD HIGH SCHOOL EARLY COLLEGE\n",
      "26                         ELEANOR ROOSEVELT HIGH SCHOOL\n",
      "60                                    BEACON HIGH SCHOOL\n",
      "61     FIORELLO H. LAGUARDIA HIGH SCHOOL OF MUSIC & A...\n",
      "302                          TOWNSEND HARRIS HIGH SCHOOL\n",
      "Name: SCHOOL NAME, dtype: object\n"
     ]
    }
   ],
   "source": [
    "print(combined[(combined[\"female_per\"] > 60) & (combined[\"sat_score\"] > 1700)][\"SCHOOL NAME\"])"
   ]
  },
  {
   "cell_type": "markdown",
   "metadata": {},
   "source": [
    "These schools appears to be very selective liberal arts schools that have high academic standards."
   ]
  },
  {
   "cell_type": "markdown",
   "metadata": {},
   "source": [
    "# Correlation between AP test takers and SAT scores"
   ]
  },
  {
   "cell_type": "code",
   "execution_count": 193,
   "metadata": {},
   "outputs": [
    {
     "data": {
      "text/plain": [
       "<matplotlib.axes._subplots.AxesSubplot at 0x117998358>"
      ]
     },
     "execution_count": 193,
     "metadata": {},
     "output_type": "execute_result"
    },
    {
     "data": {
      "image/png": "[encoded data removed]",
      "text/plain": [
       "<matplotlib.figure.Figure at 0x11a1594a8>"
      ]
     },
     "metadata": {},
     "output_type": "display_data"
    }
   ],
   "source": [
    "combined[\"ap_per\"] = combined[\"AP Test Takers \"] / combined[\"total_enrollment\"]\n",
    "combined.plot.scatter(x='ap_per', y='sat_score')"
   ]
  },
  {
   "cell_type": "markdown",
   "metadata": {},
   "source": [
    "There appears to be a weak correlation between the SAT scores and the percentage of students who take AP tests."
   ]
  },
  {
   "cell_type": "markdown",
   "metadata": {},
   "source": [
    "# Creating a linear regression model\n",
    "The following code will create a linear regression model to predict SAT scores based on the factors in the dataset. Due to the high number of explanatory variables, regularization will be used to revent over-fitting the model. "
   ]
  },
  {
   "cell_type": "code",
   "execution_count": 194,
   "metadata": {},
   "outputs": [
    {
     "data": {
      "text/html": [
       "<div>\n",
       "<style>\n",
       "    .dataframe thead tr:only-child th {\n",
       "        text-align: right;\n",
       "    }\n",
       "\n",
       "    .dataframe thead th {\n",
       "        text-align: left;\n",
       "    }\n",
       "\n",
       "    .dataframe tbody tr th {\n",
       "        vertical-align: top;\n",
       "    }\n",
       "</style>\n",
       "<table border=\"1\" class=\"dataframe\">\n",
       "  <thead>\n",
       "    <tr style=\"text-align: right;\">\n",
       "      <th></th>\n",
       "      <th>AP Test Takers</th>\n",
       "      <th>Total Exams Taken</th>\n",
       "      <th>Number of Exams with scores 3 4 or 5</th>\n",
       "      <th>Total Cohort</th>\n",
       "      <th>NUMBER OF STUDENTS / SEATS FILLED</th>\n",
       "      <th>NUMBER OF SECTIONS</th>\n",
       "      <th>AVERAGE CLASS SIZE</th>\n",
       "      <th>SIZE OF LARGEST CLASS</th>\n",
       "      <th>total_enrollment</th>\n",
       "      <th>asian_num</th>\n",
       "      <th>...</th>\n",
       "      <th>saf_t_11</th>\n",
       "      <th>saf_s_11</th>\n",
       "      <th>aca_s_11</th>\n",
       "      <th>saf_tot_11</th>\n",
       "      <th>total_students</th>\n",
       "      <th>frl_percent</th>\n",
       "      <th>ell_percent</th>\n",
       "      <th>sped_percent</th>\n",
       "      <th>black_per</th>\n",
       "      <th>hispanic_per</th>\n",
       "    </tr>\n",
       "  </thead>\n",
       "  <tbody>\n",
       "    <tr>\n",
       "      <th>0</th>\n",
       "      <td>129.028846</td>\n",
       "      <td>197.038462</td>\n",
       "      <td>153.45</td>\n",
       "      <td>78.0</td>\n",
       "      <td>88.000000</td>\n",
       "      <td>4.000000</td>\n",
       "      <td>22.564286</td>\n",
       "      <td>26.571429</td>\n",
       "      <td>422</td>\n",
       "      <td>59</td>\n",
       "      <td>...</td>\n",
       "      <td>6.3</td>\n",
       "      <td>6.000000</td>\n",
       "      <td>6.700000</td>\n",
       "      <td>6.7</td>\n",
       "      <td>323.0</td>\n",
       "      <td>88.6</td>\n",
       "      <td>22.3</td>\n",
       "      <td>24.9</td>\n",
       "      <td>29.1</td>\n",
       "      <td>53.8</td>\n",
       "    </tr>\n",
       "    <tr>\n",
       "      <th>1</th>\n",
       "      <td>39.000000</td>\n",
       "      <td>49.000000</td>\n",
       "      <td>10.00</td>\n",
       "      <td>124.0</td>\n",
       "      <td>105.687500</td>\n",
       "      <td>4.750000</td>\n",
       "      <td>22.231250</td>\n",
       "      <td>27.062500</td>\n",
       "      <td>394</td>\n",
       "      <td>115</td>\n",
       "      <td>...</td>\n",
       "      <td>6.6</td>\n",
       "      <td>6.000000</td>\n",
       "      <td>7.000000</td>\n",
       "      <td>6.8</td>\n",
       "      <td>299.0</td>\n",
       "      <td>71.8</td>\n",
       "      <td>21.1</td>\n",
       "      <td>21.8</td>\n",
       "      <td>22.6</td>\n",
       "      <td>45.9</td>\n",
       "    </tr>\n",
       "    <tr>\n",
       "      <th>2</th>\n",
       "      <td>19.000000</td>\n",
       "      <td>21.000000</td>\n",
       "      <td>153.45</td>\n",
       "      <td>90.0</td>\n",
       "      <td>57.600000</td>\n",
       "      <td>2.733333</td>\n",
       "      <td>21.200000</td>\n",
       "      <td>22.866667</td>\n",
       "      <td>598</td>\n",
       "      <td>58</td>\n",
       "      <td>...</td>\n",
       "      <td>7.3</td>\n",
       "      <td>6.611667</td>\n",
       "      <td>7.381389</td>\n",
       "      <td>7.9</td>\n",
       "      <td>649.0</td>\n",
       "      <td>71.8</td>\n",
       "      <td>5.0</td>\n",
       "      <td>26.4</td>\n",
       "      <td>23.9</td>\n",
       "      <td>55.4</td>\n",
       "    </tr>\n",
       "    <tr>\n",
       "      <th>3</th>\n",
       "      <td>129.028846</td>\n",
       "      <td>197.038462</td>\n",
       "      <td>153.45</td>\n",
       "      <td>84.0</td>\n",
       "      <td>69.642857</td>\n",
       "      <td>3.000000</td>\n",
       "      <td>23.571429</td>\n",
       "      <td>27.357143</td>\n",
       "      <td>367</td>\n",
       "      <td>34</td>\n",
       "      <td>...</td>\n",
       "      <td>6.4</td>\n",
       "      <td>6.400000</td>\n",
       "      <td>7.000000</td>\n",
       "      <td>6.9</td>\n",
       "      <td>401.0</td>\n",
       "      <td>80.7</td>\n",
       "      <td>11.2</td>\n",
       "      <td>25.9</td>\n",
       "      <td>31.6</td>\n",
       "      <td>56.9</td>\n",
       "    </tr>\n",
       "    <tr>\n",
       "      <th>4</th>\n",
       "      <td>255.000000</td>\n",
       "      <td>377.000000</td>\n",
       "      <td>191.00</td>\n",
       "      <td>46.0</td>\n",
       "      <td>156.368421</td>\n",
       "      <td>6.157895</td>\n",
       "      <td>25.510526</td>\n",
       "      <td>31.210526</td>\n",
       "      <td>1613</td>\n",
       "      <td>448</td>\n",
       "      <td>...</td>\n",
       "      <td>7.6</td>\n",
       "      <td>7.300000</td>\n",
       "      <td>7.700000</td>\n",
       "      <td>7.8</td>\n",
       "      <td>1725.0</td>\n",
       "      <td>23.0</td>\n",
       "      <td>0.2</td>\n",
       "      <td>2.7</td>\n",
       "      <td>11.7</td>\n",
       "      <td>14.2</td>\n",
       "    </tr>\n",
       "  </tbody>\n",
       "</table>\n",
       "<p>5 rows × 28 columns</p>\n",
       "</div>"
      ],
      "text/plain": [
       "   AP Test Takers   Total Exams Taken  Number of Exams with scores 3 4 or 5  \\\n",
       "0       129.028846         197.038462                                153.45   \n",
       "1        39.000000          49.000000                                 10.00   \n",
       "2        19.000000          21.000000                                153.45   \n",
       "3       129.028846         197.038462                                153.45   \n",
       "4       255.000000         377.000000                                191.00   \n",
       "\n",
       "   Total Cohort  NUMBER OF STUDENTS / SEATS FILLED  NUMBER OF SECTIONS  \\\n",
       "0          78.0                          88.000000            4.000000   \n",
       "1         124.0                         105.687500            4.750000   \n",
       "2          90.0                          57.600000            2.733333   \n",
       "3          84.0                          69.642857            3.000000   \n",
       "4          46.0                         156.368421            6.157895   \n",
       "\n",
       "   AVERAGE CLASS SIZE  SIZE OF LARGEST CLASS  total_enrollment  asian_num  \\\n",
       "0           22.564286              26.571429               422         59   \n",
       "1           22.231250              27.062500               394        115   \n",
       "2           21.200000              22.866667               598         58   \n",
       "3           23.571429              27.357143               367         34   \n",
       "4           25.510526              31.210526              1613        448   \n",
       "\n",
       "       ...       saf_t_11  saf_s_11  aca_s_11  saf_tot_11  total_students  \\\n",
       "0      ...            6.3  6.000000  6.700000         6.7           323.0   \n",
       "1      ...            6.6  6.000000  7.000000         6.8           299.0   \n",
       "2      ...            7.3  6.611667  7.381389         7.9           649.0   \n",
       "3      ...            6.4  6.400000  7.000000         6.9           401.0   \n",
       "4      ...            7.6  7.300000  7.700000         7.8          1725.0   \n",
       "\n",
       "   frl_percent  ell_percent  sped_percent  black_per  hispanic_per  \n",
       "0         88.6         22.3          24.9       29.1          53.8  \n",
       "1         71.8         21.1          21.8       22.6          45.9  \n",
       "2         71.8          5.0          26.4       23.9          55.4  \n",
       "3         80.7         11.2          25.9       31.6          56.9  \n",
       "4         23.0          0.2           2.7       11.7          14.2  \n",
       "\n",
       "[5 rows x 28 columns]"
      ]
     },
     "execution_count": 194,
     "metadata": {},
     "output_type": "execute_result"
    }
   ],
   "source": [
    "X = combined.loc[:,correlations_sat_sign.index]\n",
    "X = X.iloc[:,4:] # removing SAT scores from variables\n",
    "X.head()"
   ]
  },
  {
   "cell_type": "code",
   "execution_count": 195,
   "metadata": {},
   "outputs": [
    {
     "data": {
      "text/plain": [
       "0    1122.0\n",
       "1    1172.0\n",
       "2    1149.0\n",
       "3    1207.0\n",
       "4    1621.0\n",
       "Name: sat_score, dtype: float64"
      ]
     },
     "execution_count": 195,
     "metadata": {},
     "output_type": "execute_result"
    }
   ],
   "source": [
    "Y = combined.loc[:,'sat_score']\n",
    "Y.head()"
   ]
  },
  {
   "cell_type": "code",
   "execution_count": 196,
   "metadata": {
    "collapsed": true
   },
   "outputs": [],
   "source": [
    "### Running the model"
   ]
  },
  {
   "cell_type": "code",
   "execution_count": 197,
   "metadata": {},
   "outputs": [
    {
     "name": "stdout",
     "output_type": "stream",
     "text": [
      "intercept:  1414.29948902\n",
      "R^2:  0.817999003953\n"
     ]
    }
   ],
   "source": [
    "from sklearn.linear_model import Ridge\n",
    "\n",
    "X_norm = (X - X.min()) / (X.max() - X.min())\n",
    "\n",
    "clf = Ridge(alpha=1) \n",
    "mdl = clf.fit(X_norm, Y)\n",
    "m = mdl.coef_\n",
    "b = mdl.intercept_\n",
    "r_squared = mdl.score(X_norm, Y)\n",
    "print('intercept: ', b)\n",
    "print('R^2: ', r_squared)"
   ]
  },
  {
   "cell_type": "markdown",
   "metadata": {},
   "source": [
    "Based on the intercept and R^2 value, the model appears to be performing reasonably well. The next cell will plot the various coefficients."
   ]
  },
  {
   "cell_type": "markdown",
   "metadata": {},
   "source": [
    "## Plotting regression coefficents"
   ]
  },
  {
   "cell_type": "code",
   "execution_count": 198,
   "metadata": {},
   "outputs": [
    {
     "data": {
      "image/png": "[encoded data removed]",
      "text/plain": [
       "<matplotlib.figure.Figure at 0x11b0e31d0>"
      ]
     },
     "metadata": {},
     "output_type": "display_data"
    }
   ],
   "source": [
    "bar_position = range(8)\n",
    "\n",
    "fig = plt.figure(figsize=(12,5))\n",
    "ax = fig.add_subplot(1,1,1)\n",
    "\n",
    "ax.bar(range(len(m)), m, 0.5,  color='blue',)\n",
    "\n",
    "ax.set_xticks(range(len(m)))\n",
    "ax.set_xticklabels(X.columns, rotation = 90)\n",
    "\n",
    "\n",
    "plt.ylabel('Correlation Coefficients')\n",
    "plt.title('Factors affecting teen pregnancy')\n",
    "\n",
    "ax.spines['top'].set_visible(False)\n",
    "ax.spines['right'].set_visible(False)\n",
    "\n",
    "plt.show()"
   ]
  },
  {
   "cell_type": "markdown",
   "metadata": {},
   "source": [
    "# Notes about trends in regression coefficents\n",
    "A few different categories appear to have signficant effects on predicting SAT scores:\n",
    "- Other exams taken such as AP tests increase SAT scores\n",
    "- Percentage of white and asian students at the school increase SAT scores\n",
    "- Students that report higher safety (saf_s/t_11) increase SAT scores\n",
    "- Black and hispanic student percentages decrease SAT score (as observed earlier in correlations)\n",
    "- Free and reduced lunched (frl_percent) and special education percent (sped_percent) reduce SAT scores"
   ]
  },
  {
   "cell_type": "markdown",
   "metadata": {},
   "source": [
    "# Reducing number of variables\n",
    "To reduced the number of explanatory variables, the results from above will be filtered to only include regression coefficients that change scores greater than 75 points in either direction."
   ]
  },
  {
   "cell_type": "code",
   "execution_count": 199,
   "metadata": {},
   "outputs": [
    {
     "data": {
      "text/plain": [
       "12"
      ]
     },
     "execution_count": 199,
     "metadata": {},
     "output_type": "execute_result"
    }
   ],
   "source": [
    "coeff = pandas.DataFrame(m, index=X.columns)\n",
    "high_coeff = coeff[coeff > 75]\n",
    "low_coeff = coeff[coeff < -75]\n",
    "sig_coeff = pandas.concat([low_coeff, high_coeff])\n",
    "sig_coeff = sig_coeff.dropna()\n",
    "len(sig_coeff.index)"
   ]
  },
  {
   "cell_type": "code",
   "execution_count": 200,
   "metadata": {},
   "outputs": [
    {
     "data": {
      "text/html": [
       "<div>\n",
       "<style>\n",
       "    .dataframe thead tr:only-child th {\n",
       "        text-align: right;\n",
       "    }\n",
       "\n",
       "    .dataframe thead th {\n",
       "        text-align: left;\n",
       "    }\n",
       "\n",
       "    .dataframe tbody tr th {\n",
       "        vertical-align: top;\n",
       "    }\n",
       "</style>\n",
       "<table border=\"1\" class=\"dataframe\">\n",
       "  <thead>\n",
       "    <tr style=\"text-align: right;\">\n",
       "      <th></th>\n",
       "      <th>frl_percent</th>\n",
       "      <th>ell_percent</th>\n",
       "      <th>sped_percent</th>\n",
       "      <th>black_per</th>\n",
       "      <th>hispanic_per</th>\n",
       "      <th>AP Test Takers</th>\n",
       "      <th>Total Exams Taken</th>\n",
       "      <th>Number of Exams with scores 3 4 or 5</th>\n",
       "      <th>asian_per</th>\n",
       "      <th>white_per</th>\n",
       "      <th>aca_s_11</th>\n",
       "      <th>saf_tot_11</th>\n",
       "    </tr>\n",
       "  </thead>\n",
       "  <tbody>\n",
       "    <tr>\n",
       "      <th>0</th>\n",
       "      <td>88.6</td>\n",
       "      <td>22.3</td>\n",
       "      <td>24.9</td>\n",
       "      <td>29.1</td>\n",
       "      <td>53.8</td>\n",
       "      <td>129.028846</td>\n",
       "      <td>197.038462</td>\n",
       "      <td>153.45</td>\n",
       "      <td>14.0</td>\n",
       "      <td>1.7</td>\n",
       "      <td>6.700000</td>\n",
       "      <td>6.7</td>\n",
       "    </tr>\n",
       "    <tr>\n",
       "      <th>1</th>\n",
       "      <td>71.8</td>\n",
       "      <td>21.1</td>\n",
       "      <td>21.8</td>\n",
       "      <td>22.6</td>\n",
       "      <td>45.9</td>\n",
       "      <td>39.000000</td>\n",
       "      <td>49.000000</td>\n",
       "      <td>10.00</td>\n",
       "      <td>29.2</td>\n",
       "      <td>2.3</td>\n",
       "      <td>7.000000</td>\n",
       "      <td>6.8</td>\n",
       "    </tr>\n",
       "    <tr>\n",
       "      <th>2</th>\n",
       "      <td>71.8</td>\n",
       "      <td>5.0</td>\n",
       "      <td>26.4</td>\n",
       "      <td>23.9</td>\n",
       "      <td>55.4</td>\n",
       "      <td>19.000000</td>\n",
       "      <td>21.000000</td>\n",
       "      <td>153.45</td>\n",
       "      <td>9.7</td>\n",
       "      <td>10.4</td>\n",
       "      <td>7.381389</td>\n",
       "      <td>7.9</td>\n",
       "    </tr>\n",
       "    <tr>\n",
       "      <th>3</th>\n",
       "      <td>80.7</td>\n",
       "      <td>11.2</td>\n",
       "      <td>25.9</td>\n",
       "      <td>31.6</td>\n",
       "      <td>56.9</td>\n",
       "      <td>129.028846</td>\n",
       "      <td>197.038462</td>\n",
       "      <td>153.45</td>\n",
       "      <td>9.3</td>\n",
       "      <td>1.6</td>\n",
       "      <td>7.000000</td>\n",
       "      <td>6.9</td>\n",
       "    </tr>\n",
       "    <tr>\n",
       "      <th>4</th>\n",
       "      <td>23.0</td>\n",
       "      <td>0.2</td>\n",
       "      <td>2.7</td>\n",
       "      <td>11.7</td>\n",
       "      <td>14.2</td>\n",
       "      <td>255.000000</td>\n",
       "      <td>377.000000</td>\n",
       "      <td>191.00</td>\n",
       "      <td>27.8</td>\n",
       "      <td>44.9</td>\n",
       "      <td>7.700000</td>\n",
       "      <td>7.8</td>\n",
       "    </tr>\n",
       "  </tbody>\n",
       "</table>\n",
       "</div>"
      ],
      "text/plain": [
       "   frl_percent  ell_percent  sped_percent  black_per  hispanic_per  \\\n",
       "0         88.6         22.3          24.9       29.1          53.8   \n",
       "1         71.8         21.1          21.8       22.6          45.9   \n",
       "2         71.8          5.0          26.4       23.9          55.4   \n",
       "3         80.7         11.2          25.9       31.6          56.9   \n",
       "4         23.0          0.2           2.7       11.7          14.2   \n",
       "\n",
       "   AP Test Takers   Total Exams Taken  Number of Exams with scores 3 4 or 5  \\\n",
       "0       129.028846         197.038462                                153.45   \n",
       "1        39.000000          49.000000                                 10.00   \n",
       "2        19.000000          21.000000                                153.45   \n",
       "3       129.028846         197.038462                                153.45   \n",
       "4       255.000000         377.000000                                191.00   \n",
       "\n",
       "   asian_per  white_per  aca_s_11  saf_tot_11  \n",
       "0       14.0        1.7  6.700000         6.7  \n",
       "1       29.2        2.3  7.000000         6.8  \n",
       "2        9.7       10.4  7.381389         7.9  \n",
       "3        9.3        1.6  7.000000         6.9  \n",
       "4       27.8       44.9  7.700000         7.8  "
      ]
     },
     "execution_count": 200,
     "metadata": {},
     "output_type": "execute_result"
    }
   ],
   "source": [
    "X_new = combined.loc[:,sig_coeff.index]\n",
    "X_new.head()"
   ]
  },
  {
   "cell_type": "markdown",
   "metadata": {},
   "source": [
    "# Re-running linear regression on model with few variables"
   ]
  },
  {
   "cell_type": "code",
   "execution_count": 201,
   "metadata": {},
   "outputs": [
    {
     "name": "stdout",
     "output_type": "stream",
     "text": [
      "1447.05031508\n",
      "[-192.87696108 -338.10272541 -202.11999397 -159.77794361  -70.34612597\n",
      "   98.76486386  104.54858356  156.16915863  143.02047301   79.55235021\n",
      "   76.76077155   73.7504401 ]\n"
     ]
    },
    {
     "data": {
      "text/plain": [
       "0.80804672160668367"
      ]
     },
     "execution_count": 201,
     "metadata": {},
     "output_type": "execute_result"
    }
   ],
   "source": [
    "from sklearn.linear_model import LinearRegression\n",
    "\n",
    "X_norm = (X_new - X_new.min()) / (X_new.max() - X_new.min())\n",
    "\n",
    "clf = Ridge(alpha=1) \n",
    "mdl = clf.fit(X_norm, Y)\n",
    "m = mdl.coef_\n",
    "b = mdl.intercept_\n",
    "r_squared = mdl.score(X_norm, Y)\n",
    "print(b)\n",
    "print(m)\n",
    "r_squared"
   ]
  },
  {
   "cell_type": "markdown",
   "metadata": {},
   "source": [
    "# Plotting coefficients from new model"
   ]
  },
  {
   "cell_type": "code",
   "execution_count": 202,
   "metadata": {},
   "outputs": [
    {
     "data": {
      "image/png": "[encoded data removed]",
      "text/plain": [
       "<matplotlib.figure.Figure at 0x1210989e8>"
      ]
     },
     "metadata": {},
     "output_type": "display_data"
    }
   ],
   "source": [
    "bar_position = range(8)\n",
    "\n",
    "fig = plt.figure(figsize=(12,8))\n",
    "ax = fig.add_subplot(1,1,1)\n",
    "\n",
    "ax.bar(range(len(m)), m, 0.5,  color='blue',)\n",
    "\n",
    "ax.set_ylim(-400, 200)\n",
    "plt.ylabel('Coefficients—Change in SAT score')\n",
    "\n",
    "ax.spines['top'].set_visible(False)\n",
    "ax.spines['right'].set_visible(False)\n",
    "ax.spines['bottom'].set_visible(False)\n",
    "ax.tick_params(bottom=\"off\", top=\"off\", left=\"off\", right=\"off\", labelbottom='off')\n",
    "\n",
    "ax.axhline(0, c=(171/255, 171/255, 171/255), alpha=0.5)\n",
    "\n",
    "ax.text(-.7, -220, 'Free/Reduced'), ax.text(-.7, -240, 'Lunch Percent')\n",
    "ax.text(.2, -365, 'English Language'), ax.text(.2, -385, 'Learners Percent')\n",
    "ax.text(1.5, -230, 'Special Ed'), ax.text(1.5, -250, 'Percent')\n",
    "ax.text(2.62, -185, 'Percent'), ax.text(2.62, -205, 'Black Students')\n",
    "ax.text(3.62, -90, 'Percent'), ax.text(3.62, -110, 'Hispanic Students')\n",
    "ax.text(4.55, 130, '# AP Test'), ax.text(4.55, 110, 'Takers')\n",
    "ax.text(5.7, 155, 'Total'), ax.text(5.7, 135, 'Exams'), ax.text(5.7, 115, 'Taken')\n",
    "ax.text(6.7, 190, 'AP Score'), ax.text(6.7, 170, '3–5')\n",
    "ax.text(7.7, 200, 'Percent'), ax.text(7.7, 180, 'Asian'), ax.text(7.7, 160, 'Students')\n",
    "ax.text(8.6, 130, 'Percent'), ax.text(8.6, 110, 'White'), ax.text(8.6, 90, 'Students')\n",
    "ax.text(8.6, 130, 'Percent'), ax.text(8.6, 110, 'White'), ax.text(8.6, 90, 'Students')\n",
    "ax.text(9.6, 130, 'School'), ax.text(9.6, 110, 'Safety'), ax.text(9.6, 90, 'Students')\n",
    "ax.text(10.6, 130, 'School'), ax.text(10.6, 110, 'Safety'), ax.text(10.6, 90, 'Total')\n",
    "\n",
    "fig.savefig(\"SAT scores.pdf\")\n",
    "plt.show()"
   ]
  },
  {
   "cell_type": "markdown",
   "metadata": {},
   "source": [
    "# Summary of model results\n",
    "The significant factors include economic, opportunity, and race categories. For example schools that have a high percentage of free lunch students or engligh language leaners have lower scores overall, while schools that have higher AP test taking percents perform better. The race coefficients match the correlations explored earlier that were partially skewed by outliers. Because of this, I will explore collinearity between race and some of the more dominant factors in this model."
   ]
  },
  {
   "cell_type": "markdown",
   "metadata": {},
   "source": [
    "# Correlation with race and free/reduced lunch percent"
   ]
  },
  {
   "cell_type": "code",
   "execution_count": 203,
   "metadata": {},
   "outputs": [
    {
     "data": {
      "text/plain": [
       "white_per      -0.722343\n",
       "black_per       0.066348\n",
       "hispanic_per    0.571657\n",
       "asian_per      -0.383266\n",
       "Name: frl_percent, dtype: float64"
      ]
     },
     "execution_count": 203,
     "metadata": {},
     "output_type": "execute_result"
    }
   ],
   "source": [
    "correlations_frl = correlations[\"frl_percent\"][['white_per', 'black_per', 'hispanic_per', 'asian_per']]\n",
    "correlations_frl"
   ]
  },
  {
   "cell_type": "markdown",
   "metadata": {},
   "source": [
    "Hispanic students are much more likely to attend a school with a percentage of students receiving free or reduced lunches. White students in particular are much less likely to attend these schools"
   ]
  },
  {
   "cell_type": "markdown",
   "metadata": {},
   "source": [
    "# Correlation with race and english language learners percent"
   ]
  },
  {
   "cell_type": "code",
   "execution_count": 204,
   "metadata": {},
   "outputs": [
    {
     "data": {
      "text/plain": [
       "white_per      -0.167932\n",
       "black_per      -0.352072\n",
       "hispanic_per    0.402839\n",
       "asian_per       0.109514\n",
       "Name: ell_percent, dtype: float64"
      ]
     },
     "execution_count": 204,
     "metadata": {},
     "output_type": "execute_result"
    }
   ],
   "source": [
    "correlations_frl = correlations[\"ell_percent\"][['white_per', 'black_per', 'hispanic_per', 'asian_per']]\n",
    "correlations_frl"
   ]
  },
  {
   "cell_type": "markdown",
   "metadata": {},
   "source": [
    "Again, hispanic students are more likely to be part of a negative coefficient group in that they correlate more strong with english language learners. Students trying to learn the english language are more likely to struggle on the SAT."
   ]
  },
  {
   "cell_type": "markdown",
   "metadata": {},
   "source": [
    "# Correlation between race and safety surveys"
   ]
  },
  {
   "cell_type": "code",
   "execution_count": 205,
   "metadata": {},
   "outputs": [
    {
     "data": {
      "text/plain": [
       "white_per       0.304034\n",
       "black_per      -0.537179\n",
       "hispanic_per    0.194651\n",
       "asian_per       0.327836\n",
       "Name: saf_s_11, dtype: float64"
      ]
     },
     "execution_count": 205,
     "metadata": {},
     "output_type": "execute_result"
    }
   ],
   "source": [
    "correlations_frl = correlations[\"saf_s_11\"][['white_per', 'black_per', 'hispanic_per', 'asian_per']]\n",
    "correlations_frl"
   ]
  },
  {
   "cell_type": "markdown",
   "metadata": {},
   "source": [
    "Safety surveys predict higher SAT scores. Here, black students are much less likely to report high safety at their schools, which could negatively affect their learning environments."
   ]
  },
  {
   "cell_type": "markdown",
   "metadata": {},
   "source": [
    "# Correlations between race and AP tests"
   ]
  },
  {
   "cell_type": "code",
   "execution_count": 206,
   "metadata": {},
   "outputs": [
    {
     "data": {
      "text/plain": [
       "white_per       0.304763\n",
       "black_per      -0.226659\n",
       "hispanic_per   -0.220731\n",
       "asian_per       0.487636\n",
       "Name: AP Test Takers , dtype: float64"
      ]
     },
     "execution_count": 206,
     "metadata": {},
     "output_type": "execute_result"
    }
   ],
   "source": [
    "correlations_frl = correlations[\"AP Test Takers \"][['white_per', 'black_per', 'hispanic_per', 'asian_per']]\n",
    "correlations_frl"
   ]
  },
  {
   "cell_type": "markdown",
   "metadata": {},
   "source": [
    "White and Asian students are more likely to take AP tests that correlate positively with SAT scores. Whether this is due to the opportunity to take these courses and tests (they may not be offered at all schools) is unclear."
   ]
  },
  {
   "cell_type": "markdown",
   "metadata": {},
   "source": [
    "# Final Summary\n",
    "While race has significant effects on the predicted SAT score, it is likely that these factors may be more related to other factors in the model such as economic situations, safety at the school, and opportunity for extracirricular learnings such as AP tests. Removing race from the model decreases the R^2 fit to 0.74 compared to a 0.80 with race, showing that these four factors have some impact on the response, but not a large one."
   ]
  }
 ],
 "metadata": {
  "kernelspec": {
   "display_name": "Python 3",
   "language": "python",
   "name": "python3"
  },
  "language_info": {
   "codemirror_mode": {
    "name": "ipython",
    "version": 3
   },
   "file_extension": ".py",
   "mimetype": "text/x-python",
   "name": "python",
   "nbconvert_exporter": "python",
   "pygments_lexer": "ipython3",
   "version": "3.6.1"
  }
 },
 "nbformat": 4,
 "nbformat_minor": 1
}
